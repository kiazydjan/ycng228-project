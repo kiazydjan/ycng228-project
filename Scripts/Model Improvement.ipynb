{
 "cells": [
  {
   "cell_type": "code",
   "execution_count": 1,
   "id": "e7300121",
   "metadata": {},
   "outputs": [],
   "source": [
    "# Import packages\n",
    "import pandas as pd\n",
    "import sklearn as sk\n",
    "from sklearn.preprocessing import MinMaxScaler\n",
    "from sklearn.model_selection import train_test_split\n",
    "from sklearn.linear_model import LogisticRegression\n",
    "from sklearn.preprocessing import StandardScaler\n",
    "from sklearn.pipeline import Pipeline\n",
    "from sklearn import metrics\n",
    "import math\n",
    "import pickle\n",
    "import joblib"
   ]
  },
  {
   "cell_type": "code",
   "execution_count": 2,
   "id": "0ec02201",
   "metadata": {},
   "outputs": [],
   "source": [
    "# Read data\n",
    "df_raw = pd.read_csv('C:/Users/karen/PycharmProjects/ycng228-project/.data/_SP500_data_all.csv',index_col = 0)\n",
    "df_raw.index = pd.to_datetime(df_raw.index)\n",
    "df_raw.index.name = 'date'\n",
    "df_raw = df_raw.sort_index(axis = 0)"
   ]
  },
  {
   "cell_type": "code",
   "execution_count": 3,
   "id": "30f3a31d",
   "metadata": {},
   "outputs": [
    {
     "data": {
      "text/html": [
       "<div>\n",
       "<style scoped>\n",
       "    .dataframe tbody tr th:only-of-type {\n",
       "        vertical-align: middle;\n",
       "    }\n",
       "\n",
       "    .dataframe tbody tr th {\n",
       "        vertical-align: top;\n",
       "    }\n",
       "\n",
       "    .dataframe thead th {\n",
       "        text-align: right;\n",
       "    }\n",
       "</style>\n",
       "<table border=\"1\" class=\"dataframe\">\n",
       "  <thead>\n",
       "    <tr style=\"text-align: right;\">\n",
       "      <th></th>\n",
       "      <th>open</th>\n",
       "      <th>high</th>\n",
       "      <th>low</th>\n",
       "      <th>close</th>\n",
       "      <th>adjclose</th>\n",
       "      <th>volume</th>\n",
       "      <th>ticker</th>\n",
       "    </tr>\n",
       "    <tr>\n",
       "      <th>date</th>\n",
       "      <th></th>\n",
       "      <th></th>\n",
       "      <th></th>\n",
       "      <th></th>\n",
       "      <th></th>\n",
       "      <th></th>\n",
       "      <th></th>\n",
       "    </tr>\n",
       "  </thead>\n",
       "  <tbody>\n",
       "    <tr>\n",
       "      <th>1970-03-25</th>\n",
       "      <td>6.781250</td>\n",
       "      <td>6.937500</td>\n",
       "      <td>6.781250</td>\n",
       "      <td>6.875000</td>\n",
       "      <td>0.261931</td>\n",
       "      <td>68400</td>\n",
       "      <td>ED</td>\n",
       "    </tr>\n",
       "    <tr>\n",
       "      <th>1970-03-25</th>\n",
       "      <td>0.341564</td>\n",
       "      <td>0.368313</td>\n",
       "      <td>0.340535</td>\n",
       "      <td>0.349794</td>\n",
       "      <td>0.158033</td>\n",
       "      <td>2041200</td>\n",
       "      <td>MCD</td>\n",
       "    </tr>\n",
       "    <tr>\n",
       "      <th>1970-03-25</th>\n",
       "      <td>8.084030</td>\n",
       "      <td>8.434241</td>\n",
       "      <td>8.054846</td>\n",
       "      <td>8.200767</td>\n",
       "      <td>1.285789</td>\n",
       "      <td>382912</td>\n",
       "      <td>IP</td>\n",
       "    </tr>\n",
       "    <tr>\n",
       "      <th>1970-03-25</th>\n",
       "      <td>1.753906</td>\n",
       "      <td>1.796875</td>\n",
       "      <td>1.753906</td>\n",
       "      <td>1.789063</td>\n",
       "      <td>0.158143</td>\n",
       "      <td>2720000</td>\n",
       "      <td>XOM</td>\n",
       "    </tr>\n",
       "    <tr>\n",
       "      <th>1970-03-25</th>\n",
       "      <td>15.750478</td>\n",
       "      <td>16.108988</td>\n",
       "      <td>15.750478</td>\n",
       "      <td>15.917782</td>\n",
       "      <td>3.698164</td>\n",
       "      <td>1303316</td>\n",
       "      <td>IBM</td>\n",
       "    </tr>\n",
       "  </tbody>\n",
       "</table>\n",
       "</div>"
      ],
      "text/plain": [
       "                 open       high        low      close  adjclose   volume  \\\n",
       "date                                                                        \n",
       "1970-03-25   6.781250   6.937500   6.781250   6.875000  0.261931    68400   \n",
       "1970-03-25   0.341564   0.368313   0.340535   0.349794  0.158033  2041200   \n",
       "1970-03-25   8.084030   8.434241   8.054846   8.200767  1.285789   382912   \n",
       "1970-03-25   1.753906   1.796875   1.753906   1.789063  0.158143  2720000   \n",
       "1970-03-25  15.750478  16.108988  15.750478  15.917782  3.698164  1303316   \n",
       "\n",
       "           ticker  \n",
       "date               \n",
       "1970-03-25     ED  \n",
       "1970-03-25    MCD  \n",
       "1970-03-25     IP  \n",
       "1970-03-25    XOM  \n",
       "1970-03-25    IBM  "
      ]
     },
     "execution_count": 3,
     "metadata": {},
     "output_type": "execute_result"
    }
   ],
   "source": [
    "df_raw.head(5)"
   ]
  },
  {
   "cell_type": "code",
   "execution_count": 4,
   "id": "3f9e6112",
   "metadata": {},
   "outputs": [],
   "source": [
    "\n",
    "df_open = df_raw[['open','ticker']]\n",
    "df_high = df_raw[['high','ticker']]\n",
    "df_low = df_raw[['low','ticker']]\n",
    "df_close = df_raw[['close','ticker']]\n",
    "df_adjclose = df_raw[['adjclose','ticker']]\n",
    "df_volume = df_raw[['volume','ticker']]\n"
   ]
  },
  {
   "cell_type": "code",
   "execution_count": 5,
   "id": "207d16d6",
   "metadata": {},
   "outputs": [],
   "source": [
    "# Functions\n",
    "def pivot_df(_df):\n",
    "    _df = _df.pivot(columns = \"ticker\")\n",
    "    return _df\n",
    "\n",
    "\n",
    "def diff_df(_df):\n",
    "    _df = _df.diff()\n",
    "    return _df\n",
    "\n",
    "\n",
    "def trim_df(_df,_start,_end):\n",
    "    dates = _df.index.get_level_values('date')[(_df.index.get_level_values('date') >= _start) & \\\n",
    "                                               (_df.index.get_level_values('date') <= _end)]\n",
    "    _df = pd.DataFrame(_df[_df.index.get_level_values('date').isin(dates)][_df.columns])\n",
    "    return _df\n",
    "\n",
    "\n",
    "def create_input_0(_df,_pivot_start,_pivot_end):\n",
    "    pivots = _df.index.get_level_values('date')[(_df.index.get_level_values('date') >= _pivot_start) & \\\n",
    "                                               (_df.index.get_level_values('date') <= _pivot_end)]\n",
    "\n",
    "    column_names = ['day' + str(i) for i in range(1,31)]\n",
    "    column_names.append('output')\n",
    "    column_names.append('ticker')\n",
    "    column_names.append('date')\n",
    "\n",
    "    df_input = pd.DataFrame(columns=column_names)\n",
    "    \n",
    "    for i in pivots:\n",
    "        df_tmp = trim_df(_df,_df.index[0],i)\n",
    "        df_tmp = df_tmp.tail(32).diff().dropna()\n",
    "        df_tmp = pd.DataFrame(df_tmp.transpose().values,columns=column_names[:-2])\n",
    "        df_tmp['ticker'] = _df.columns.get_level_values('ticker').to_list()\n",
    "        df_tmp['date'] = i\n",
    "        df_input = pd.concat([df_input, df_tmp], ignore_index=True)\n",
    "        \n",
    "    return df_input\n",
    "\n",
    "\n",
    "def create_input_1(_df,_pivot_start,_pivot_end):\n",
    "    pivots = _df.index.get_level_values('date')[(_df.index.get_level_values('date') >= _pivot_start) & \\\n",
    "                                               (_df.index.get_level_values('date') <= _pivot_end)]\n",
    "\n",
    "    column_names = ['day' + str(i) for i in range(1,46)] #lag=45\n",
    "    column_names.append('output')\n",
    "    column_names.append('ticker')\n",
    "    column_names.append('date')\n",
    "\n",
    "    df_input = pd.DataFrame(columns=column_names)\n",
    "    \n",
    "    for i in pivots:\n",
    "        df_tmp = trim_df(_df,_df.index[0],i)\n",
    "        df_tmp = df_tmp.tail(47).diff().dropna() #lag=45\n",
    "        df_tmp = pd.DataFrame(df_tmp.transpose().values,columns=column_names[:-2])\n",
    "        df_tmp['ticker'] = _df.columns.get_level_values('ticker').to_list()\n",
    "        df_tmp['date'] = i\n",
    "        df_input = pd.concat([df_input, df_tmp], ignore_index=True)\n",
    "        \n",
    "    return df_input\n",
    "\n",
    "def create_input_2(_df,_pivot_start,_pivot_end):\n",
    "    pivots = _df.index.get_level_values('date')[(_df.index.get_level_values('date') >= _pivot_start) & \\\n",
    "                                               (_df.index.get_level_values('date') <= _pivot_end)]\n",
    "\n",
    "    column_names = ['day' + str(i) for i in range(1,61)] #lag=60\n",
    "    column_names.append('output')\n",
    "    column_names.append('ticker')\n",
    "    column_names.append('date')\n",
    "\n",
    "    df_input = pd.DataFrame(columns=column_names)\n",
    "    \n",
    "    for i in pivots:\n",
    "        df_tmp = trim_df(_df,_df.index[0],i)\n",
    "        df_tmp = df_tmp.tail(62).diff().dropna() #lag=60\n",
    "        df_tmp = pd.DataFrame(df_tmp.transpose().values,columns=column_names[:-2])\n",
    "        df_tmp['ticker'] = _df.columns.get_level_values('ticker').to_list()\n",
    "        df_tmp['date'] = i\n",
    "        df_input = pd.concat([df_input, df_tmp], ignore_index=True)\n",
    "        \n",
    "    return df_input\n",
    "\n",
    "\n",
    "def create_input_3(_df,_pivot_start,_pivot_end):\n",
    "    pivots = _df.index.get_level_values('date')[(_df.index.get_level_values('date') >= _pivot_start) & \\\n",
    "                                               (_df.index.get_level_values('date') <= _pivot_end)]\n",
    "\n",
    "    column_names = ['day' + str(i) for i in range(1,91)] #lag=90\n",
    "    column_names.append('output')\n",
    "    column_names.append('ticker')\n",
    "    column_names.append('date')\n",
    "\n",
    "    df_input = pd.DataFrame(columns=column_names)\n",
    "    #df_tmp = pd.DataFrame(columns=_df.columns)\n",
    "    \n",
    "    for i in pivots:\n",
    "        df_tmp = trim_df(_df,_df.index[0],i)\n",
    "        df_tmp = df_tmp.tail(92).diff().dropna() #lag=90\n",
    "        df_tmp = pd.DataFrame(df_tmp.transpose().values,columns=column_names[:-2])\n",
    "        df_tmp['ticker'] = _df.columns.get_level_values('ticker').to_list()\n",
    "        df_tmp['date'] = i\n",
    "        df_input = pd.concat([df_input, df_tmp], ignore_index=True)\n",
    "        \n",
    "    return df_input\n",
    "\n",
    "\n",
    "def tokenize_output(_df,_column='output'):\n",
    "    df_tmp = _df\n",
    "    df_tmp.loc[df_tmp[_column] <= 0, _column] = -1 \n",
    "    df_tmp.loc[df_tmp[_column] >  0, _column] =  1 \n",
    "\n",
    "    return df_tmp\n"
   ]
  },
  {
   "cell_type": "code",
   "execution_count": 6,
   "id": "5132b4e7",
   "metadata": {},
   "outputs": [],
   "source": [
    "# CREATE formatted dfs\n",
    "df_open_clean = pivot_df(trim_df(df_open,'2018-01-01','2022-09-01')).fillna(method = 'bfill')\n",
    "df_high_clean = pivot_df(trim_df(df_high,'2018-01-01','2022-09-01')).fillna(method = 'bfill')\n",
    "df_low_clean = pivot_df(trim_df(df_low,'2018-01-01','2022-09-01')).fillna(method = 'bfill')\n",
    "df_close_clean = pivot_df(trim_df(df_close,'2018-01-01','2022-09-01')).fillna(method = 'bfill')\n",
    "df_adjclose_clean = pivot_df(trim_df(df_adjclose,'2018-01-01','2022-09-01')).fillna(method = 'bfill')\n",
    "df_volume_clean = pivot_df(trim_df(df_volume,'2018-01-01','2022-09-01')).fillna(method = 'bfill')"
   ]
  },
  {
   "cell_type": "code",
   "execution_count": null,
   "id": "86d8718b",
   "metadata": {},
   "outputs": [],
   "source": []
  },
  {
   "cell_type": "code",
   "execution_count": 44,
   "id": "57aae571",
   "metadata": {},
   "outputs": [],
   "source": [
    "# Iteration 0 - Baseline"
   ]
  },
  {
   "cell_type": "code",
   "execution_count": 16,
   "id": "aa61eb70",
   "metadata": {},
   "outputs": [],
   "source": [
    "df_train_0 = tokenize_output(create_input_0(trim_df(df_close_clean,'2019-01-01','2022-05-01'),'2019-04-01','2022-05-01'))\n",
    "df_test_0 = tokenize_output(create_input_0(trim_df(df_close_clean,'2022-01-01','2022-09-01'),'2022-06-01','2022-09-01'))"
   ]
  },
  {
   "cell_type": "code",
   "execution_count": 17,
   "id": "0ec41ebb",
   "metadata": {},
   "outputs": [],
   "source": [
    "lr_0 = LogisticRegression(solver='liblinear')"
   ]
  },
  {
   "cell_type": "code",
   "execution_count": 18,
   "id": "6d5d3388",
   "metadata": {},
   "outputs": [],
   "source": [
    "X_0,y_0 = df_train_0.iloc[:,:-3],df_train_0.iloc[:,30]\n",
    "X_valid_0,y_valid_0 = df_test_0.iloc[:,:-3],df_test_0.iloc[:,30]\n",
    "X_train_0, X_test_0, y_train_0, y_test_0 = train_test_split(X_0, y_0, test_size=0.33, random_state=42)\n",
    "lr_0.fit(X_train_0,y_train_0)\n",
    "y_pred_0 = lr_0.predict(X_test_0)\n",
    "y_predv_0 = lr_0.predict(X_valid_0)"
   ]
  },
  {
   "cell_type": "code",
   "execution_count": 19,
   "id": "99083f1e",
   "metadata": {},
   "outputs": [
    {
     "name": "stdout",
     "output_type": "stream",
     "text": [
      "Training balanced accuracy: 0.5073219375692692\n",
      "Validation balanced accuracy: 0.5055112982376558\n"
     ]
    }
   ],
   "source": [
    "bal_acc_train_0 = metrics.balanced_accuracy_score(y_test_0, y_pred_0)\n",
    "bal_acc_valid_0 = metrics.balanced_accuracy_score(y_valid_0, y_predv_0)\n",
    "print('Training balanced accuracy: ' + str(bal_acc_train_0))\n",
    "print('Validation balanced accuracy: ' + str(bal_acc_valid_0))"
   ]
  },
  {
   "cell_type": "code",
   "execution_count": 20,
   "id": "add270f4",
   "metadata": {},
   "outputs": [],
   "source": [
    "# Iteration 1 - Adjust lag from 30 to 45 days"
   ]
  },
  {
   "cell_type": "code",
   "execution_count": 23,
   "id": "10b6129f",
   "metadata": {},
   "outputs": [],
   "source": [
    "df_train_1 = tokenize_output(create_input_1(trim_df(df_close_clean,'2019-01-01','2022-05-01'),'2019-04-01','2022-05-01'))\n",
    "df_test_1 = tokenize_output(create_input_1(trim_df(df_close_clean,'2022-01-01','2022-09-01'),'2022-06-01','2022-09-01'))"
   ]
  },
  {
   "cell_type": "code",
   "execution_count": null,
   "id": "7126a95c",
   "metadata": {},
   "outputs": [],
   "source": []
  },
  {
   "cell_type": "code",
   "execution_count": 24,
   "id": "16328e15",
   "metadata": {},
   "outputs": [],
   "source": [
    "lr_1 = LogisticRegression(solver='liblinear')"
   ]
  },
  {
   "cell_type": "code",
   "execution_count": 25,
   "id": "2f9c628e",
   "metadata": {},
   "outputs": [],
   "source": [
    "X_1,y_1 = df_train_1.iloc[:,:-3],df_train_1.iloc[:,45]\n",
    "X_valid_1,y_valid_1 = df_test_1.iloc[:,:-3],df_test_1.iloc[:,45]\n",
    "X_train_1, X_test_1, y_train_1, y_test_1 = train_test_split(X_1, y_1, test_size=0.33, random_state=42)\n",
    "y_train_1=y_train_1.astype('int')\n",
    "lr_1.fit(X_train_1,y_train_1)\n",
    "y_pred_1 = lr_1.predict(X_test_1)\n",
    "y_predv_1 = lr_1.predict(X_valid_1)"
   ]
  },
  {
   "cell_type": "code",
   "execution_count": 29,
   "id": "375dc95c",
   "metadata": {},
   "outputs": [],
   "source": [
    "y_test_1 = y_test_1.astype('int')\n",
    "y_predv_1 = y_predv_1.astype('int')\n",
    "y_valid_1 = y_valid_1.astype('int')"
   ]
  },
  {
   "cell_type": "code",
   "execution_count": 30,
   "id": "1218c6fb",
   "metadata": {},
   "outputs": [
    {
     "name": "stdout",
     "output_type": "stream",
     "text": [
      "Training balanced accuracy: 0.5098055076313895\n",
      "Validation balanced accuracy: 0.5115039569297077\n"
     ]
    }
   ],
   "source": [
    "bal_acc_train_1 = metrics.balanced_accuracy_score(y_test_1, y_pred_1)\n",
    "bal_acc_valid_1 = metrics.balanced_accuracy_score(y_valid_1, y_predv_1)\n",
    "print('Training balanced accuracy: ' + str(bal_acc_train_1))\n",
    "print('Validation balanced accuracy: ' + str(bal_acc_valid_1))"
   ]
  },
  {
   "cell_type": "code",
   "execution_count": null,
   "id": "811c614a",
   "metadata": {},
   "outputs": [],
   "source": [
    "# Iteration 2 - Adjust lag from 45 to 60 days"
   ]
  },
  {
   "cell_type": "code",
   "execution_count": 25,
   "id": "42e4fd37",
   "metadata": {},
   "outputs": [],
   "source": [
    "df_train_2 = tokenize_output(create_input_2(trim_df(df_close_clean,'2019-01-01','2022-05-01'),'2019-04-01','2022-05-01'))\n",
    "df_test_2 = tokenize_output(create_input_2(trim_df(df_close_clean,'2022-01-01','2022-09-01'),'2022-06-01','2022-09-01'))"
   ]
  },
  {
   "cell_type": "code",
   "execution_count": 26,
   "id": "b0a9136f",
   "metadata": {},
   "outputs": [],
   "source": [
    "lr_2 = LogisticRegression(solver='liblinear')"
   ]
  },
  {
   "cell_type": "code",
   "execution_count": 27,
   "id": "bb3177de",
   "metadata": {},
   "outputs": [],
   "source": [
    "X_2,y_2 = df_train_2.iloc[:,:-3],df_train_2.iloc[:,60]\n",
    "X_valid_2,y_valid_2 = df_test_2.iloc[:,:-3],df_test_2.iloc[:,60]\n",
    "X_train_2, X_test_2, y_train_2, y_test_2 = train_test_split(X_2, y_2, test_size=0.33, random_state=42)\n",
    "lr_2.fit(X_train_2,y_train_2)\n",
    "y_pred_2 = lr_2.predict(X_test_2)\n",
    "y_predv_2 = lr_2.predict(X_valid_2)"
   ]
  },
  {
   "cell_type": "code",
   "execution_count": 28,
   "id": "07973ba1",
   "metadata": {},
   "outputs": [
    {
     "name": "stdout",
     "output_type": "stream",
     "text": [
      "Training balanced accuracy: 0.5114626955272751\n",
      "Validation balanced accuracy: 0.5062041650195774\n"
     ]
    }
   ],
   "source": [
    "bal_acc_train_2 = metrics.balanced_accuracy_score(y_test_2, y_pred_2)\n",
    "bal_acc_valid_2 = metrics.balanced_accuracy_score(y_valid_2, y_predv_2)\n",
    "print('Training balanced accuracy: ' + str(bal_acc_train_2))\n",
    "print('Validation balanced accuracy: ' + str(bal_acc_valid_2))"
   ]
  },
  {
   "cell_type": "code",
   "execution_count": 324,
   "id": "5514bf27",
   "metadata": {},
   "outputs": [],
   "source": [
    "# Iteration 3 - Adjust lag from 60 to 90 days"
   ]
  },
  {
   "cell_type": "code",
   "execution_count": 31,
   "id": "7fcb7ad6",
   "metadata": {},
   "outputs": [],
   "source": [
    "df_train_3 = tokenize_output(create_input_3(trim_df(df_close_clean,'2018-11-01','2022-05-01'),'2019-04-01','2022-05-01'))\n",
    "df_test_3 = tokenize_output(create_input_3(trim_df(df_close_clean,'2022-01-01','2022-09-01'),'2022-06-01','2022-09-01'))"
   ]
  },
  {
   "cell_type": "code",
   "execution_count": 32,
   "id": "6299848a",
   "metadata": {},
   "outputs": [],
   "source": [
    "lr_3 = LogisticRegression(solver='liblinear')"
   ]
  },
  {
   "cell_type": "code",
   "execution_count": 35,
   "id": "b0192dc1",
   "metadata": {},
   "outputs": [],
   "source": [
    "X_3,y_3 = df_train_3.iloc[:,:-3],df_train_3.iloc[:,90]\n",
    "X_valid_3,y_valid_3 = df_test_3.iloc[:,:-3],df_test_3.iloc[:,90]\n",
    "X_train_3, X_test_3, y_train_3, y_test_3 = train_test_split(X_3, y_3, test_size=0.33, random_state=42)\n",
    "lr_3.fit(X_train_3,y_train_3)\n",
    "y_pred_3 = lr_3.predict(X_test_3)\n",
    "y_predv_3 = lr_3.predict(X_valid_3)"
   ]
  },
  {
   "cell_type": "code",
   "execution_count": 36,
   "id": "dacb8723",
   "metadata": {},
   "outputs": [
    {
     "name": "stdout",
     "output_type": "stream",
     "text": [
      "Training balanced accuracy: 0.5150177052885482\n",
      "Validation balanced accuracy: 0.4994879580548367\n"
     ]
    }
   ],
   "source": [
    "bal_acc_train_3 = metrics.balanced_accuracy_score(y_test_3, y_pred_3)\n",
    "bal_acc_valid_3 = metrics.balanced_accuracy_score(y_valid_3, y_predv_3)\n",
    "print('Training balanced accuracy: ' + str(bal_acc_train_3))\n",
    "print('Validation balanced accuracy: ' + str(bal_acc_valid_3))"
   ]
  },
  {
   "cell_type": "code",
   "execution_count": 31,
   "id": "ed5b38d7",
   "metadata": {},
   "outputs": [
    {
     "data": {
      "text/plain": [
       "['mdl.sav']"
      ]
     },
     "execution_count": 31,
     "metadata": {},
     "output_type": "execute_result"
    }
   ],
   "source": [
    "filename = 'mdl.sav'\n",
    "joblib.dump(lr_1, filename)"
   ]
  },
  {
   "cell_type": "code",
   "execution_count": null,
   "id": "5d5f745e",
   "metadata": {},
   "outputs": [],
   "source": []
  }
 ],
 "metadata": {
  "kernelspec": {
   "display_name": "Python 3 (ipykernel)",
   "language": "python",
   "name": "python3"
  },
  "language_info": {
   "codemirror_mode": {
    "name": "ipython",
    "version": 3
   },
   "file_extension": ".py",
   "mimetype": "text/x-python",
   "name": "python",
   "nbconvert_exporter": "python",
   "pygments_lexer": "ipython3",
   "version": "3.9.12"
  }
 },
 "nbformat": 4,
 "nbformat_minor": 5
}
