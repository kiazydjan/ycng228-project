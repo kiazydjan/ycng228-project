{
 "cells": [
  {
   "cell_type": "markdown",
   "id": "308ef672",
   "metadata": {},
   "source": [
    "# Data exploration\n",
    "The evaluation strategy is: <br>\n",
    "Train = everything until 01/06/2022 (excluded)<br>\n",
    "Test = from 01/06/2022 until 01/09/2022<br>\n",
    "The metric to use is balanced accuracy<br>\n"
   ]
  },
  {
   "cell_type": "code",
   "execution_count": null,
   "id": "d81e3f01",
   "metadata": {},
   "outputs": [],
   "source": [
    "# Import libraries\n",
    "import pandas as pd\n",
    "import matplotlib as mp"
   ]
  },
  {
   "cell_type": "code",
   "execution_count": null,
   "id": "a2e67c71",
   "metadata": {},
   "outputs": [],
   "source": [
    "# Read data\n",
    "df_ticker_data = pd.read_csv('C:/Users/karen/PycharmProjects/ycng228-project/.data/_SP500_data_all.csv',index_col = 0)\n",
    "df_ticker_data.index.name = 'Date'\n",
    "\n",
    "df_ticker_info = pd.read_csv('C:/Users/karen/PycharmProjects/ycng228-project/.data/_SP500_ticker_info.csv')"
   ]
  },
  {
   "cell_type": "code",
   "execution_count": null,
   "id": "974578a5",
   "metadata": {},
   "outputs": [],
   "source": [
    "display(df_ticker_info)"
   ]
  },
  {
   "cell_type": "code",
   "execution_count": null,
   "id": "88cb81c0",
   "metadata": {},
   "outputs": [],
   "source": [
    "# Industry Sectors\n",
    "print(df_ticker_info['GICS Sector'].nunique())\n",
    "print(df_ticker_info['GICS Sector'].unique())"
   ]
  },
  {
   "cell_type": "code",
   "execution_count": null,
   "id": "6bff121a",
   "metadata": {},
   "outputs": [],
   "source": [
    "# Industry Sub-Sectors\n",
    "print(df_ticker_info['GICS Sub-Industry'].nunique())\n",
    "print(df_ticker_info['GICS Sub-Industry'].unique())"
   ]
  },
  {
   "cell_type": "code",
   "execution_count": null,
   "id": "c047100a",
   "metadata": {},
   "outputs": [],
   "source": [
    "display(df_ticker_data.sort_index(axis = 0))"
   ]
  },
  {
   "cell_type": "code",
   "execution_count": null,
   "id": "ed854891",
   "metadata": {},
   "outputs": [],
   "source": [
    "# Transform Data\n",
    "\n",
    "df = df_ticker_data[['close','ticker']].rename(columns = {\"close\" : \"Closing Price\",\"ticker\" : \"Ticker\"})\n",
    "df = df.pivot(columns = \"Ticker\")"
   ]
  },
  {
   "cell_type": "code",
   "execution_count": null,
   "id": "0c2397fa",
   "metadata": {},
   "outputs": [],
   "source": [
    "display(df)"
   ]
  },
  {
   "cell_type": "code",
   "execution_count": null,
   "id": "a7933d4d",
   "metadata": {},
   "outputs": [],
   "source": [
    "# Count number of NaaN per date\n",
    "df_nulls = pd.DataFrame(df.isnull().sum(axis = 1))\n",
    "df_nulls.rename(columns = {df_nulls.columns[0] : \"Number of Nulls\"}, inplace = True)\n",
    "df_nulls.index = pd.to_datetime(df_nulls.index)\n",
    "# display(df_nulls)"
   ]
  },
  {
   "cell_type": "code",
   "execution_count": null,
   "id": "39c110d2",
   "metadata": {},
   "outputs": [],
   "source": [
    "# Visualize\n",
    "df_nulls_per_year = df_nulls.groupby(df_nulls.index.year).sum()\n",
    "df_nulls_per_year.plot(kind = 'bar', figsize = (12,8), title = 'Number of Null Data points per year')"
   ]
  },
  {
   "cell_type": "code",
   "execution_count": null,
   "id": "617b3d9c",
   "metadata": {},
   "outputs": [],
   "source": [
    "df_stats = df.describe()\n",
    "display(df_stats)"
   ]
  },
  {
   "cell_type": "code",
   "execution_count": null,
   "id": "68ca334d",
   "metadata": {},
   "outputs": [],
   "source": [
    "# Validate Describe matrix for zero values\n",
    "(df_stats == 0).astype(int).sum(axis=1)"
   ]
  },
  {
   "cell_type": "code",
   "execution_count": null,
   "id": "d652c8c7",
   "metadata": {},
   "outputs": [],
   "source": [
    "print(df_stats.loc['count'].nsmallest(10))"
   ]
  },
  {
   "cell_type": "code",
   "execution_count": null,
   "id": "d2ee3c37",
   "metadata": {},
   "outputs": [],
   "source": [
    "print(df_stats.loc['std'].nsmallest(25))"
   ]
  },
  {
   "cell_type": "code",
   "execution_count": null,
   "id": "a8bb3895",
   "metadata": {},
   "outputs": [],
   "source": [
    "print(df_stats.loc['std'].nlargest(10))"
   ]
  },
  {
   "cell_type": "code",
   "execution_count": null,
   "id": "2df0ca0e",
   "metadata": {},
   "outputs": [],
   "source": [
    "print(df_stats.loc['min'].nsmallest(25))"
   ]
  },
  {
   "cell_type": "code",
   "execution_count": null,
   "id": "73004a2a",
   "metadata": {},
   "outputs": [],
   "source": [
    "print(df_stats.loc['max'].nlargest(10))"
   ]
  },
  {
   "cell_type": "code",
   "execution_count": null,
   "id": "e36760d2",
   "metadata": {},
   "outputs": [],
   "source": [
    "# display(df)\n",
    "df_delta = df.diff()\n",
    "display(df_delta)"
   ]
  },
  {
   "cell_type": "code",
   "execution_count": null,
   "id": "1baf33ab",
   "metadata": {},
   "outputs": [],
   "source": [
    "(df_delta < 0).sum().sum()"
   ]
  },
  {
   "cell_type": "code",
   "execution_count": null,
   "id": "7c007bd4",
   "metadata": {},
   "outputs": [],
   "source": [
    "(df_delta > 0).sum().sum()"
   ]
  },
  {
   "cell_type": "code",
   "execution_count": null,
   "id": "f42f1318",
   "metadata": {},
   "outputs": [],
   "source": [
    "df_bal = pd.DataFrame([(df_delta < 0).sum(),(df_delta > 0).sum()])\n",
    "display(df_bal)"
   ]
  },
  {
   "cell_type": "code",
   "execution_count": null,
   "id": "27d9f7bb",
   "metadata": {},
   "outputs": [],
   "source": [
    "print('Mean of differences between price increase and price decrease across tickers: ' + str(round(df_bal.diff().loc[1].mean(),2))) #positive minus negative\n",
    "print('Standard deviation of differences between price increase and price decrease across tickers: ' + str(round(df_bal.diff().loc[1].std(),2)))\n",
    "print('Median of differences between price increase and price decrease across tickers: ' + str(round(df_bal.diff().loc[1].median(),2)))\n",
    "print('Individual ticker datasets seem to be slightly unbalanced towards price increase')"
   ]
  },
  {
   "cell_type": "code",
   "execution_count": null,
   "id": "3b6b90de",
   "metadata": {},
   "outputs": [],
   "source": [
    "display(df_bal.diff().loc[1].median())"
   ]
  },
  {
   "cell_type": "code",
   "execution_count": null,
   "id": "976b4bf7",
   "metadata": {},
   "outputs": [],
   "source": [
    "print('Standard deviation of differences between price increase and price decrease across tickers: ' + str(round(df_bal.diff().loc[1].std(),2)))"
   ]
  },
  {
   "cell_type": "markdown",
   "id": "216dd3fd",
   "metadata": {},
   "source": [
    "# To do:\n",
    "### Clean up\n",
    "DONE - 1. Validate min date where all indexes are present (not all should start at 1970) <br>\n",
    "2. Validate number of tickers per date <br>\n",
    "REJECTED - 3. Validate missing lines per ticker (after min date) <br>\n",
    "DONE - 4. Validate NaaN for all tickers / dates <br>\n",
    "DONE - 5. Validate zero values <br>\n",
    " <br>\n",
    "### Data Exploration\n",
    "DONE - 6. MAX/MIN <br>\n",
    "DONE - 7. Average / Variance, Global vs per Ticker? <br>\n",
    "8. OUTLIERS <br>\n",
    "9. covariance between closing price and Global average closing price per date  <br>\n",
    "10. Calculate Delta between Closing Price D and Closing Price D+1 <br>\n",
    "11. ANALYZE DELTA DISTRIBUTION (down/up) BALANCED OR UNBALANCED DATASET ??? GLOBAL AND PER TICKER <br>\n",
    "\n",
    "\n",
    "99. Yahoo_finance lists industry sectors. this may be an interesting feature (get industry trend for a month for example). This would be additional data.\n"
   ]
  },
  {
   "cell_type": "markdown",
   "id": "0b75ed92",
   "metadata": {},
   "source": [
    "# Notes\n",
    "\n",
    "- Industry sectors or Industry sub-sectors may make a good additional feature down the road\n",
    "- Using industry average for example may make a good feature\n",
    "- Finding correlation between industries may be relevant but would be beyond the scope of the course as it would complicate the model too much\n",
    "- Discuss features further in assignment 4??\n",
    "- DELTA NEEDS TO BE ANALYZED\n",
    "- % price increase Appropriate? \n",
    "- Use Volume in original data? create feature of DELTA ratio over Volume Ratio? or PRICE/VOLUME\n",
    "- Use logs to smoothout price changes?"
   ]
  },
  {
   "cell_type": "markdown",
   "id": "4e2f6c38",
   "metadata": {},
   "source": [
    "# Results\n",
    "\n",
    "blablabla"
   ]
  },
  {
   "cell_type": "code",
   "execution_count": null,
   "id": "a167916f",
   "metadata": {},
   "outputs": [],
   "source": []
  }
 ],
 "metadata": {
  "kernelspec": {
   "display_name": "Python 3 (ipykernel)",
   "language": "python",
   "name": "python3"
  },
  "language_info": {
   "codemirror_mode": {
    "name": "ipython",
    "version": 3
   },
   "file_extension": ".py",
   "mimetype": "text/x-python",
   "name": "python",
   "nbconvert_exporter": "python",
   "pygments_lexer": "ipython3",
   "version": "3.8.5"
  }
 },
 "nbformat": 4,
 "nbformat_minor": 5
}
